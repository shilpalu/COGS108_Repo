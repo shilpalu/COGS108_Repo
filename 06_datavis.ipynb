{
  "cells": [
    {
      "cell_type": "markdown",
      "metadata": {
        "id": "EwBxGKEyIvbt"
      },
      "source": [
        "## Class Announcements\n",
        "\n",
        "**Due Today**\n",
        "- A1\n",
        "  \n",
        "**Due Friday**\n",
        "- D2\n",
        "  \n",
        "**Due Monday**:\n",
        "- Q3\n",
        "\n",
        "\n",
        "\n",
        "**Notes**:\n",
        "- Repo invites:Take it ASAP, they become invalid after 7 days"
      ]
    },
    {
      "cell_type": "markdown",
      "metadata": {
        "id": "o-anJr_0Ivbx"
      },
      "source": [
        "# Data Visualization\n",
        "\n",
        "- tools:\n",
        "    - `seaborn` - generating plots\n",
        "    - `pandas` - wrangling data\n",
        "    - `matplotlib` - fine-tuning plots\n",
        "- plotting\n",
        "    - quantitative data\n",
        "    - categorical data\n",
        "- customizing visualizations\n",
        "\n",
        "[![Open In Colab](https://colab.research.google.com/assets/colab-badge.svg)](https://colab.research.google.com/github/COGS108/Lectures-Fa24/blob/main/06_datavis.ipynb)\n",
        "\n",
        "\n"
      ]
    },
    {
      "cell_type": "markdown",
      "metadata": {
        "id": "3ZwHrLx2Ivb0"
      },
      "source": [
        "<div class=\"alert alert-success\">\n",
        "For more information on this topic, check out: (1) Jake VanderPlas' <a href=\"https://github.com/jakevdp/PythonDataScienceHandbook\" class=\"alert-link\">Python Data Science Handbook</a> and (2) Berkeley's <a href=\"https://www.textbook.ds100.org/ch/06/viz_intro.html\" class=\"alert-link\">Data 100 Textbook</a>.\n",
        "</div>"
      ]
    },
    {
      "cell_type": "markdown",
      "metadata": {
        "id": "4XoN649jIvb2"
      },
      "source": [
        "A good data visualization can help you:\n",
        "- identify anomalies in your data\n",
        "- better understand your own data\n",
        "- communicate your findings\n"
      ]
    },
    {
      "cell_type": "markdown",
      "metadata": {
        "id": "eze1KXl_Ivb3"
      },
      "source": [
        "## Quick Introduction\n",
        "95%+ of plots fall into just a few types:\n",
        "- single variable\n",
        "    - continuous\n",
        "    - discrete\n",
        "- discrete vs discrete\n",
        "- discrete vs continuous\n",
        "- continuous vs continuous\n",
        "\n",
        "## Basic Visualizations\n",
        "\n",
        "- histograms\n",
        "- densityplots\n",
        "- scatterplot\n",
        "- barplot\n",
        "    - grouped barplot\n",
        "    - stacked barplot\n",
        "- boxplot (and related things like violinplots, etc)\n",
        "- line plot\n",
        "\n",
        "## Variable types : Plots\n",
        "- statistical/distribution of quantitative variable\n",
        "    - single variable\n",
        "        - histogram\n",
        "        - densityplot\n",
        "    - single variable x categorical variable\n",
        "        - boxplot\n",
        "- count data\n",
        "    - count data x categorical variable\n",
        "        - barplot\n",
        "    - count data x 2 categorical variables\n",
        "        - grouped bar plot\n",
        "        - stacked bar plot\n",
        "- Directly view quantitative variables\n",
        "    - one variable x time\n",
        "        - line plot\n",
        "    - one variable x time x categorical variable\n",
        "        - multiple lines on the same plot\n",
        "    - two (or maybe 3) quantitative variables\n",
        "        - scatter plot\n",
        "        "
      ]
    },
    {
      "cell_type": "markdown",
      "metadata": {
        "id": "IJ81Mx5MIvb4"
      },
      "source": [
        "![](https://github.com/COGS108/Lectures-Sp22/raw/master/03_ethics/images/histogram.png)"
      ]
    },
    {
      "cell_type": "markdown",
      "metadata": {
        "id": "j8c9oCdqIvb6"
      },
      "source": [
        "![](https://github.com/COGS108/Lectures-Sp22/raw/master/03_ethics/images/densityplot.png)"
      ]
    },
    {
      "cell_type": "markdown",
      "metadata": {
        "id": "EtHte8m_Ivb8"
      },
      "source": [
        "![](https://github.com/COGS108/Lectures-Sp22/raw/master/03_ethics/images/scatterplot.png)"
      ]
    },
    {
      "cell_type": "markdown",
      "metadata": {
        "id": "QWyq1QQoIvb9"
      },
      "source": [
        "![](https://github.com/COGS108/Lectures-Sp22/raw/master/03_ethics/images/barplot.png)"
      ]
    },
    {
      "cell_type": "markdown",
      "metadata": {
        "id": "lnMD296YIvb-"
      },
      "source": [
        "![](https://github.com/COGS108/Lectures-Sp22/raw/master/03_ethics/images/grouped_barplot.png)"
      ]
    },
    {
      "cell_type": "markdown",
      "metadata": {
        "id": "36byEhnHIvb_"
      },
      "source": [
        "![](https://github.com/COGS108/Lectures-Sp22/raw/master/03_ethics/images/stacked_barplot.png)\n",
        "\n",
        "Source: [Storytelling with Data (Nussbaumer Knaflic)](http://www.storytellingwithdata.com/books)"
      ]
    },
    {
      "cell_type": "markdown",
      "metadata": {
        "id": "gBEJwNAuIvcA"
      },
      "source": [
        "![](https://github.com/COGS108/Lectures-Sp22/raw/master/03_ethics/images/boxplot.png)"
      ]
    },
    {
      "cell_type": "markdown",
      "metadata": {
        "id": "GBHA7NI7IvcA"
      },
      "source": [
        "![](https://github.com/COGS108/Lectures-Sp22/raw/master/03_ethics/images/line_plot.png)\n",
        "\n",
        "Source: [Storytelling with Data (Nussbaumer Knaflic)](http://www.storytellingwithdata.com/books)"
      ]
    },
    {
      "cell_type": "markdown",
      "metadata": {
        "id": "TyOjTb8lIvcB"
      },
      "source": [
        "https://forms.gle/Dn1k7uHoQSwoVoHS7\n",
        "\n",
        "<!-- <img src=\"https://github.com/COGS108/Lectures-Sp22/raw/master/03_ethics/images/qr-code.png\" width=\"900\"/> -->"
      ]
    },
    {
      "cell_type": "markdown",
      "metadata": {
        "id": "i_X2c2PLIvcB"
      },
      "source": [
        "\n",
        "\n",
        "#### Question #1  \n",
        "\n",
        "You want to visualize how many people in your dataset prefer chocolate chip cookies and how many prefer oatmeal raisin cookies.\n",
        "\n",
        "**What type of visualization would be most appropriate?**\n",
        "\n",
        "- A) histogram\n",
        "- B) scatterplot\n",
        "- C) barplot\n",
        "- D) boxplot\n",
        "- E) line plot\n"
      ]
    },
    {
      "cell_type": "markdown",
      "metadata": {
        "id": "zrCjUDGJIvcC"
      },
      "source": [
        "#### Question #2\n",
        "\n",
        "You're interested in visualizing how many servings of milk an individual drinks each day among those who prefer chocolate chip cookies and those who prefer oatmeal raisin cookies.\n",
        "\n",
        "**What type of visualization would be most appropriate?**\n",
        "\n",
        "- A) histogram\n",
        "- B) scatterplot\n",
        "- C) barplot\n",
        "- D) boxplot\n",
        "- E) line plot"
      ]
    },
    {
      "cell_type": "markdown",
      "metadata": {
        "id": "NYr5uz9NIvcC"
      },
      "source": [
        "#### Question #3\n",
        "\n",
        "You're interested in visualizing how many servings of milk an individual drinks each year over the course of their life.\n",
        "\n",
        "**What type of visualization would be most appropriate?**\n",
        "\n",
        "- A) histogram\n",
        "- B) scatterplot\n",
        "- C) barplot\n",
        "- D) boxplot\n",
        "- E) line plot"
      ]
    },
    {
      "cell_type": "markdown",
      "metadata": {
        "id": "nju0qYvUIvcD"
      },
      "source": [
        "# Plotting in Python: Getting Started\n",
        "\n",
        "First we'll import the libraries we'll use for plotting."
      ]
    },
    {
      "cell_type": "code",
      "execution_count": 1,
      "metadata": {
        "id": "Rr66aVhmIvcE"
      },
      "outputs": [],
      "source": [
        "# import working with data libraries\n",
        "import pandas as pd\n",
        "import numpy as np\n",
        "\n",
        "# import seaborn\n",
        "import seaborn as sns\n",
        "\n",
        "# import matplotlib\n",
        "import matplotlib.pyplot as plt # Typical way of import MPL\n",
        "import matplotlib as mpl # This line is used less frequently\n",
        "\n",
        "#improve resolution\n",
        "#comment this line if erroring on your machine/screen\n",
        "%config InlineBackend.figure_format ='retina'"
      ]
    },
    {
      "cell_type": "code",
      "execution_count": 2,
      "metadata": {
        "id": "52o7o824IvcF",
        "outputId": "1273961b-6489-4ea0-9a89-88f6a0ebd35f",
        "colab": {
          "base_uri": "https://localhost:8080/",
          "height": 35
        }
      },
      "outputs": [
        {
          "output_type": "execute_result",
          "data": {
            "text/plain": [
              "'0.13.2'"
            ],
            "application/vnd.google.colaboratory.intrinsic+json": {
              "type": "string"
            }
          },
          "metadata": {},
          "execution_count": 2
        }
      ],
      "source": [
        "sns.__version__"
      ]
    },
    {
      "cell_type": "markdown",
      "metadata": {
        "id": "9bq09xVtIvcG"
      },
      "source": [
        "# `seaborn`\n",
        "\n",
        "`seaborn` is a great place to get started when generating plots that don't look awful."
      ]
    },
    {
      "cell_type": "markdown",
      "metadata": {
        "id": "THgJSYa-IvcG"
      },
      "source": [
        "# Class Data\n",
        "With the libraries we need imported, the first dataset we'll use today is data from the COGS 108 class survey from the Spring of 2019."
      ]
    },
    {
      "cell_type": "code",
      "execution_count": 3,
      "metadata": {
        "id": "Ic7I3KJPIvcH"
      },
      "outputs": [],
      "source": [
        "df = pd.read_csv('https://github.com/COGS108/Lectures-Sp22/raw/master/03_ethics/data/df_for_viz.csv')\n"
      ]
    },
    {
      "cell_type": "code",
      "execution_count": 4,
      "metadata": {
        "id": "q843tnWxIvcH",
        "outputId": "f5e106fe-5d6a-44fe-a60f-8111879da524",
        "colab": {
          "base_uri": "https://localhost:8080/"
        }
      },
      "outputs": [
        {
          "output_type": "execute_result",
          "data": {
            "text/plain": [
              "(843, 11)"
            ]
          },
          "metadata": {},
          "execution_count": 4
        }
      ],
      "source": [
        "df.shape"
      ]
    },
    {
      "cell_type": "code",
      "execution_count": 5,
      "metadata": {
        "id": "Wy7jxxLKIvcH",
        "outputId": "4e0ffac2-92d0-43a8-d38b-ab36dcb64cd5",
        "colab": {
          "base_uri": "https://localhost:8080/",
          "height": 206
        }
      },
      "outputs": [
        {
          "output_type": "execute_result",
          "data": {
            "text/plain": [
              "   gender                                 lecture_attendance  job  statistics  \\\n",
              "0  female                         I prefer to attend lecture   No           5   \n",
              "1    male                         I prefer to attend lecture   No           8   \n",
              "2  female                         I prefer to attend lecture   No           6   \n",
              "3    male                         I prefer to attend lecture   No           2   \n",
              "4    male  I prefer not to attend lecture (i.e. catch up ...  Yes           3   \n",
              "\n",
              "   programming  Java  MATLAB  R  Python  C  SQL  \n",
              "0            8     1       0  0       0  0    0  \n",
              "1            4     0       1  0       1  0    0  \n",
              "2            7     1       0  0       0  0    0  \n",
              "3           10     1       0  0       0  1    0  \n",
              "4           10     1       0  0       0  0    0  "
            ],
            "text/html": [
              "\n",
              "  <div id=\"df-104f839e-e1a0-4255-8837-418a273e509d\" class=\"colab-df-container\">\n",
              "    <div>\n",
              "<style scoped>\n",
              "    .dataframe tbody tr th:only-of-type {\n",
              "        vertical-align: middle;\n",
              "    }\n",
              "\n",
              "    .dataframe tbody tr th {\n",
              "        vertical-align: top;\n",
              "    }\n",
              "\n",
              "    .dataframe thead th {\n",
              "        text-align: right;\n",
              "    }\n",
              "</style>\n",
              "<table border=\"1\" class=\"dataframe\">\n",
              "  <thead>\n",
              "    <tr style=\"text-align: right;\">\n",
              "      <th></th>\n",
              "      <th>gender</th>\n",
              "      <th>lecture_attendance</th>\n",
              "      <th>job</th>\n",
              "      <th>statistics</th>\n",
              "      <th>programming</th>\n",
              "      <th>Java</th>\n",
              "      <th>MATLAB</th>\n",
              "      <th>R</th>\n",
              "      <th>Python</th>\n",
              "      <th>C</th>\n",
              "      <th>SQL</th>\n",
              "    </tr>\n",
              "  </thead>\n",
              "  <tbody>\n",
              "    <tr>\n",
              "      <th>0</th>\n",
              "      <td>female</td>\n",
              "      <td>I prefer to attend lecture</td>\n",
              "      <td>No</td>\n",
              "      <td>5</td>\n",
              "      <td>8</td>\n",
              "      <td>1</td>\n",
              "      <td>0</td>\n",
              "      <td>0</td>\n",
              "      <td>0</td>\n",
              "      <td>0</td>\n",
              "      <td>0</td>\n",
              "    </tr>\n",
              "    <tr>\n",
              "      <th>1</th>\n",
              "      <td>male</td>\n",
              "      <td>I prefer to attend lecture</td>\n",
              "      <td>No</td>\n",
              "      <td>8</td>\n",
              "      <td>4</td>\n",
              "      <td>0</td>\n",
              "      <td>1</td>\n",
              "      <td>0</td>\n",
              "      <td>1</td>\n",
              "      <td>0</td>\n",
              "      <td>0</td>\n",
              "    </tr>\n",
              "    <tr>\n",
              "      <th>2</th>\n",
              "      <td>female</td>\n",
              "      <td>I prefer to attend lecture</td>\n",
              "      <td>No</td>\n",
              "      <td>6</td>\n",
              "      <td>7</td>\n",
              "      <td>1</td>\n",
              "      <td>0</td>\n",
              "      <td>0</td>\n",
              "      <td>0</td>\n",
              "      <td>0</td>\n",
              "      <td>0</td>\n",
              "    </tr>\n",
              "    <tr>\n",
              "      <th>3</th>\n",
              "      <td>male</td>\n",
              "      <td>I prefer to attend lecture</td>\n",
              "      <td>No</td>\n",
              "      <td>2</td>\n",
              "      <td>10</td>\n",
              "      <td>1</td>\n",
              "      <td>0</td>\n",
              "      <td>0</td>\n",
              "      <td>0</td>\n",
              "      <td>1</td>\n",
              "      <td>0</td>\n",
              "    </tr>\n",
              "    <tr>\n",
              "      <th>4</th>\n",
              "      <td>male</td>\n",
              "      <td>I prefer not to attend lecture (i.e. catch up ...</td>\n",
              "      <td>Yes</td>\n",
              "      <td>3</td>\n",
              "      <td>10</td>\n",
              "      <td>1</td>\n",
              "      <td>0</td>\n",
              "      <td>0</td>\n",
              "      <td>0</td>\n",
              "      <td>0</td>\n",
              "      <td>0</td>\n",
              "    </tr>\n",
              "  </tbody>\n",
              "</table>\n",
              "</div>\n",
              "    <div class=\"colab-df-buttons\">\n",
              "\n",
              "  <div class=\"colab-df-container\">\n",
              "    <button class=\"colab-df-convert\" onclick=\"convertToInteractive('df-104f839e-e1a0-4255-8837-418a273e509d')\"\n",
              "            title=\"Convert this dataframe to an interactive table.\"\n",
              "            style=\"display:none;\">\n",
              "\n",
              "  <svg xmlns=\"http://www.w3.org/2000/svg\" height=\"24px\" viewBox=\"0 -960 960 960\">\n",
              "    <path d=\"M120-120v-720h720v720H120Zm60-500h600v-160H180v160Zm220 220h160v-160H400v160Zm0 220h160v-160H400v160ZM180-400h160v-160H180v160Zm440 0h160v-160H620v160ZM180-180h160v-160H180v160Zm440 0h160v-160H620v160Z\"/>\n",
              "  </svg>\n",
              "    </button>\n",
              "\n",
              "  <style>\n",
              "    .colab-df-container {\n",
              "      display:flex;\n",
              "      gap: 12px;\n",
              "    }\n",
              "\n",
              "    .colab-df-convert {\n",
              "      background-color: #E8F0FE;\n",
              "      border: none;\n",
              "      border-radius: 50%;\n",
              "      cursor: pointer;\n",
              "      display: none;\n",
              "      fill: #1967D2;\n",
              "      height: 32px;\n",
              "      padding: 0 0 0 0;\n",
              "      width: 32px;\n",
              "    }\n",
              "\n",
              "    .colab-df-convert:hover {\n",
              "      background-color: #E2EBFA;\n",
              "      box-shadow: 0px 1px 2px rgba(60, 64, 67, 0.3), 0px 1px 3px 1px rgba(60, 64, 67, 0.15);\n",
              "      fill: #174EA6;\n",
              "    }\n",
              "\n",
              "    .colab-df-buttons div {\n",
              "      margin-bottom: 4px;\n",
              "    }\n",
              "\n",
              "    [theme=dark] .colab-df-convert {\n",
              "      background-color: #3B4455;\n",
              "      fill: #D2E3FC;\n",
              "    }\n",
              "\n",
              "    [theme=dark] .colab-df-convert:hover {\n",
              "      background-color: #434B5C;\n",
              "      box-shadow: 0px 1px 3px 1px rgba(0, 0, 0, 0.15);\n",
              "      filter: drop-shadow(0px 1px 2px rgba(0, 0, 0, 0.3));\n",
              "      fill: #FFFFFF;\n",
              "    }\n",
              "  </style>\n",
              "\n",
              "    <script>\n",
              "      const buttonEl =\n",
              "        document.querySelector('#df-104f839e-e1a0-4255-8837-418a273e509d button.colab-df-convert');\n",
              "      buttonEl.style.display =\n",
              "        google.colab.kernel.accessAllowed ? 'block' : 'none';\n",
              "\n",
              "      async function convertToInteractive(key) {\n",
              "        const element = document.querySelector('#df-104f839e-e1a0-4255-8837-418a273e509d');\n",
              "        const dataTable =\n",
              "          await google.colab.kernel.invokeFunction('convertToInteractive',\n",
              "                                                    [key], {});\n",
              "        if (!dataTable) return;\n",
              "\n",
              "        const docLinkHtml = 'Like what you see? Visit the ' +\n",
              "          '<a target=\"_blank\" href=https://colab.research.google.com/notebooks/data_table.ipynb>data table notebook</a>'\n",
              "          + ' to learn more about interactive tables.';\n",
              "        element.innerHTML = '';\n",
              "        dataTable['output_type'] = 'display_data';\n",
              "        await google.colab.output.renderOutput(dataTable, element);\n",
              "        const docLink = document.createElement('div');\n",
              "        docLink.innerHTML = docLinkHtml;\n",
              "        element.appendChild(docLink);\n",
              "      }\n",
              "    </script>\n",
              "  </div>\n",
              "\n",
              "\n",
              "<div id=\"df-e197a110-14dc-47d6-9379-216b0748b10a\">\n",
              "  <button class=\"colab-df-quickchart\" onclick=\"quickchart('df-e197a110-14dc-47d6-9379-216b0748b10a')\"\n",
              "            title=\"Suggest charts\"\n",
              "            style=\"display:none;\">\n",
              "\n",
              "<svg xmlns=\"http://www.w3.org/2000/svg\" height=\"24px\"viewBox=\"0 0 24 24\"\n",
              "     width=\"24px\">\n",
              "    <g>\n",
              "        <path d=\"M19 3H5c-1.1 0-2 .9-2 2v14c0 1.1.9 2 2 2h14c1.1 0 2-.9 2-2V5c0-1.1-.9-2-2-2zM9 17H7v-7h2v7zm4 0h-2V7h2v10zm4 0h-2v-4h2v4z\"/>\n",
              "    </g>\n",
              "</svg>\n",
              "  </button>\n",
              "\n",
              "<style>\n",
              "  .colab-df-quickchart {\n",
              "      --bg-color: #E8F0FE;\n",
              "      --fill-color: #1967D2;\n",
              "      --hover-bg-color: #E2EBFA;\n",
              "      --hover-fill-color: #174EA6;\n",
              "      --disabled-fill-color: #AAA;\n",
              "      --disabled-bg-color: #DDD;\n",
              "  }\n",
              "\n",
              "  [theme=dark] .colab-df-quickchart {\n",
              "      --bg-color: #3B4455;\n",
              "      --fill-color: #D2E3FC;\n",
              "      --hover-bg-color: #434B5C;\n",
              "      --hover-fill-color: #FFFFFF;\n",
              "      --disabled-bg-color: #3B4455;\n",
              "      --disabled-fill-color: #666;\n",
              "  }\n",
              "\n",
              "  .colab-df-quickchart {\n",
              "    background-color: var(--bg-color);\n",
              "    border: none;\n",
              "    border-radius: 50%;\n",
              "    cursor: pointer;\n",
              "    display: none;\n",
              "    fill: var(--fill-color);\n",
              "    height: 32px;\n",
              "    padding: 0;\n",
              "    width: 32px;\n",
              "  }\n",
              "\n",
              "  .colab-df-quickchart:hover {\n",
              "    background-color: var(--hover-bg-color);\n",
              "    box-shadow: 0 1px 2px rgba(60, 64, 67, 0.3), 0 1px 3px 1px rgba(60, 64, 67, 0.15);\n",
              "    fill: var(--button-hover-fill-color);\n",
              "  }\n",
              "\n",
              "  .colab-df-quickchart-complete:disabled,\n",
              "  .colab-df-quickchart-complete:disabled:hover {\n",
              "    background-color: var(--disabled-bg-color);\n",
              "    fill: var(--disabled-fill-color);\n",
              "    box-shadow: none;\n",
              "  }\n",
              "\n",
              "  .colab-df-spinner {\n",
              "    border: 2px solid var(--fill-color);\n",
              "    border-color: transparent;\n",
              "    border-bottom-color: var(--fill-color);\n",
              "    animation:\n",
              "      spin 1s steps(1) infinite;\n",
              "  }\n",
              "\n",
              "  @keyframes spin {\n",
              "    0% {\n",
              "      border-color: transparent;\n",
              "      border-bottom-color: var(--fill-color);\n",
              "      border-left-color: var(--fill-color);\n",
              "    }\n",
              "    20% {\n",
              "      border-color: transparent;\n",
              "      border-left-color: var(--fill-color);\n",
              "      border-top-color: var(--fill-color);\n",
              "    }\n",
              "    30% {\n",
              "      border-color: transparent;\n",
              "      border-left-color: var(--fill-color);\n",
              "      border-top-color: var(--fill-color);\n",
              "      border-right-color: var(--fill-color);\n",
              "    }\n",
              "    40% {\n",
              "      border-color: transparent;\n",
              "      border-right-color: var(--fill-color);\n",
              "      border-top-color: var(--fill-color);\n",
              "    }\n",
              "    60% {\n",
              "      border-color: transparent;\n",
              "      border-right-color: var(--fill-color);\n",
              "    }\n",
              "    80% {\n",
              "      border-color: transparent;\n",
              "      border-right-color: var(--fill-color);\n",
              "      border-bottom-color: var(--fill-color);\n",
              "    }\n",
              "    90% {\n",
              "      border-color: transparent;\n",
              "      border-bottom-color: var(--fill-color);\n",
              "    }\n",
              "  }\n",
              "</style>\n",
              "\n",
              "  <script>\n",
              "    async function quickchart(key) {\n",
              "      const quickchartButtonEl =\n",
              "        document.querySelector('#' + key + ' button');\n",
              "      quickchartButtonEl.disabled = true;  // To prevent multiple clicks.\n",
              "      quickchartButtonEl.classList.add('colab-df-spinner');\n",
              "      try {\n",
              "        const charts = await google.colab.kernel.invokeFunction(\n",
              "            'suggestCharts', [key], {});\n",
              "      } catch (error) {\n",
              "        console.error('Error during call to suggestCharts:', error);\n",
              "      }\n",
              "      quickchartButtonEl.classList.remove('colab-df-spinner');\n",
              "      quickchartButtonEl.classList.add('colab-df-quickchart-complete');\n",
              "    }\n",
              "    (() => {\n",
              "      let quickchartButtonEl =\n",
              "        document.querySelector('#df-e197a110-14dc-47d6-9379-216b0748b10a button');\n",
              "      quickchartButtonEl.style.display =\n",
              "        google.colab.kernel.accessAllowed ? 'block' : 'none';\n",
              "    })();\n",
              "  </script>\n",
              "</div>\n",
              "\n",
              "    </div>\n",
              "  </div>\n"
            ],
            "application/vnd.google.colaboratory.intrinsic+json": {
              "type": "dataframe",
              "variable_name": "df",
              "summary": "{\n  \"name\": \"df\",\n  \"rows\": 843,\n  \"fields\": [\n    {\n      \"column\": \"gender\",\n      \"properties\": {\n        \"dtype\": \"category\",\n        \"num_unique_values\": 3,\n        \"samples\": [\n          \"female\",\n          \"male\",\n          \"other or prefer not to say\"\n        ],\n        \"semantic_type\": \"\",\n        \"description\": \"\"\n      }\n    },\n    {\n      \"column\": \"lecture_attendance\",\n      \"properties\": {\n        \"dtype\": \"category\",\n        \"num_unique_values\": 2,\n        \"samples\": [\n          \"I prefer not to attend lecture (i.e. catch up later, listen to podcast, etc.)\",\n          \"I prefer to attend lecture\"\n        ],\n        \"semantic_type\": \"\",\n        \"description\": \"\"\n      }\n    },\n    {\n      \"column\": \"job\",\n      \"properties\": {\n        \"dtype\": \"category\",\n        \"num_unique_values\": 3,\n        \"samples\": [\n          \"No\",\n          \"Yes\"\n        ],\n        \"semantic_type\": \"\",\n        \"description\": \"\"\n      }\n    },\n    {\n      \"column\": \"statistics\",\n      \"properties\": {\n        \"dtype\": \"number\",\n        \"std\": 1,\n        \"min\": 1,\n        \"max\": 10,\n        \"num_unique_values\": 10,\n        \"samples\": [\n          10,\n          8\n        ],\n        \"semantic_type\": \"\",\n        \"description\": \"\"\n      }\n    },\n    {\n      \"column\": \"programming\",\n      \"properties\": {\n        \"dtype\": \"number\",\n        \"std\": 2,\n        \"min\": 1,\n        \"max\": 10,\n        \"num_unique_values\": 10,\n        \"samples\": [\n          2,\n          4\n        ],\n        \"semantic_type\": \"\",\n        \"description\": \"\"\n      }\n    },\n    {\n      \"column\": \"Java\",\n      \"properties\": {\n        \"dtype\": \"number\",\n        \"std\": 0,\n        \"min\": 0,\n        \"max\": 1,\n        \"num_unique_values\": 2,\n        \"samples\": [\n          0,\n          1\n        ],\n        \"semantic_type\": \"\",\n        \"description\": \"\"\n      }\n    },\n    {\n      \"column\": \"MATLAB\",\n      \"properties\": {\n        \"dtype\": \"number\",\n        \"std\": 0,\n        \"min\": 0,\n        \"max\": 1,\n        \"num_unique_values\": 2,\n        \"samples\": [\n          1,\n          0\n        ],\n        \"semantic_type\": \"\",\n        \"description\": \"\"\n      }\n    },\n    {\n      \"column\": \"R\",\n      \"properties\": {\n        \"dtype\": \"number\",\n        \"std\": 0,\n        \"min\": 0,\n        \"max\": 1,\n        \"num_unique_values\": 2,\n        \"samples\": [\n          1,\n          0\n        ],\n        \"semantic_type\": \"\",\n        \"description\": \"\"\n      }\n    },\n    {\n      \"column\": \"Python\",\n      \"properties\": {\n        \"dtype\": \"number\",\n        \"std\": 0,\n        \"min\": 0,\n        \"max\": 1,\n        \"num_unique_values\": 2,\n        \"samples\": [\n          1,\n          0\n        ],\n        \"semantic_type\": \"\",\n        \"description\": \"\"\n      }\n    },\n    {\n      \"column\": \"C\",\n      \"properties\": {\n        \"dtype\": \"number\",\n        \"std\": 0,\n        \"min\": 0,\n        \"max\": 1,\n        \"num_unique_values\": 2,\n        \"samples\": [\n          1,\n          0\n        ],\n        \"semantic_type\": \"\",\n        \"description\": \"\"\n      }\n    },\n    {\n      \"column\": \"SQL\",\n      \"properties\": {\n        \"dtype\": \"number\",\n        \"std\": 0,\n        \"min\": 0,\n        \"max\": 1,\n        \"num_unique_values\": 2,\n        \"samples\": [\n          1,\n          0\n        ],\n        \"semantic_type\": \"\",\n        \"description\": \"\"\n      }\n    }\n  ]\n}"
            }
          },
          "metadata": {},
          "execution_count": 5
        }
      ],
      "source": [
        "df.head()"
      ]
    },
    {
      "cell_type": "markdown",
      "metadata": {
        "id": "VfjLEgyZIvcI"
      },
      "source": [
        "Wrangling that's been done:\n",
        "- removed lots of identifying information\n",
        "- standardized gender & job\n",
        "- separated out programming responses"
      ]
    },
    {
      "cell_type": "code",
      "execution_count": 6,
      "metadata": {
        "id": "kXzOErtPIvcI",
        "outputId": "e048dc50-8444-4fd2-dceb-692a176abd46",
        "colab": {
          "base_uri": "https://localhost:8080/",
          "height": 300
        }
      },
      "outputs": [
        {
          "output_type": "execute_result",
          "data": {
            "text/plain": [
              "       statistics  programming        Java      MATLAB           R  \\\n",
              "count  843.000000   843.000000  843.000000  843.000000  843.000000   \n",
              "mean     5.575326     6.769870    0.809015    0.265718    0.153025   \n",
              "std      1.985687     2.367976    0.393310    0.441977    0.360225   \n",
              "min      1.000000     1.000000    0.000000    0.000000    0.000000   \n",
              "25%      4.000000     5.000000    1.000000    0.000000    0.000000   \n",
              "50%      6.000000     7.000000    1.000000    0.000000    0.000000   \n",
              "75%      7.000000     9.000000    1.000000    1.000000    0.000000   \n",
              "max     10.000000    10.000000    1.000000    1.000000    1.000000   \n",
              "\n",
              "           Python           C         SQL  \n",
              "count  843.000000  843.000000  843.000000  \n",
              "mean     0.485172    0.198102    0.003559  \n",
              "std      0.500077    0.398806    0.059584  \n",
              "min      0.000000    0.000000    0.000000  \n",
              "25%      0.000000    0.000000    0.000000  \n",
              "50%      0.000000    0.000000    0.000000  \n",
              "75%      1.000000    0.000000    0.000000  \n",
              "max      1.000000    1.000000    1.000000  "
            ],
            "text/html": [
              "\n",
              "  <div id=\"df-5b179416-2671-4569-96ef-f50552b2fbc6\" class=\"colab-df-container\">\n",
              "    <div>\n",
              "<style scoped>\n",
              "    .dataframe tbody tr th:only-of-type {\n",
              "        vertical-align: middle;\n",
              "    }\n",
              "\n",
              "    .dataframe tbody tr th {\n",
              "        vertical-align: top;\n",
              "    }\n",
              "\n",
              "    .dataframe thead th {\n",
              "        text-align: right;\n",
              "    }\n",
              "</style>\n",
              "<table border=\"1\" class=\"dataframe\">\n",
              "  <thead>\n",
              "    <tr style=\"text-align: right;\">\n",
              "      <th></th>\n",
              "      <th>statistics</th>\n",
              "      <th>programming</th>\n",
              "      <th>Java</th>\n",
              "      <th>MATLAB</th>\n",
              "      <th>R</th>\n",
              "      <th>Python</th>\n",
              "      <th>C</th>\n",
              "      <th>SQL</th>\n",
              "    </tr>\n",
              "  </thead>\n",
              "  <tbody>\n",
              "    <tr>\n",
              "      <th>count</th>\n",
              "      <td>843.000000</td>\n",
              "      <td>843.000000</td>\n",
              "      <td>843.000000</td>\n",
              "      <td>843.000000</td>\n",
              "      <td>843.000000</td>\n",
              "      <td>843.000000</td>\n",
              "      <td>843.000000</td>\n",
              "      <td>843.000000</td>\n",
              "    </tr>\n",
              "    <tr>\n",
              "      <th>mean</th>\n",
              "      <td>5.575326</td>\n",
              "      <td>6.769870</td>\n",
              "      <td>0.809015</td>\n",
              "      <td>0.265718</td>\n",
              "      <td>0.153025</td>\n",
              "      <td>0.485172</td>\n",
              "      <td>0.198102</td>\n",
              "      <td>0.003559</td>\n",
              "    </tr>\n",
              "    <tr>\n",
              "      <th>std</th>\n",
              "      <td>1.985687</td>\n",
              "      <td>2.367976</td>\n",
              "      <td>0.393310</td>\n",
              "      <td>0.441977</td>\n",
              "      <td>0.360225</td>\n",
              "      <td>0.500077</td>\n",
              "      <td>0.398806</td>\n",
              "      <td>0.059584</td>\n",
              "    </tr>\n",
              "    <tr>\n",
              "      <th>min</th>\n",
              "      <td>1.000000</td>\n",
              "      <td>1.000000</td>\n",
              "      <td>0.000000</td>\n",
              "      <td>0.000000</td>\n",
              "      <td>0.000000</td>\n",
              "      <td>0.000000</td>\n",
              "      <td>0.000000</td>\n",
              "      <td>0.000000</td>\n",
              "    </tr>\n",
              "    <tr>\n",
              "      <th>25%</th>\n",
              "      <td>4.000000</td>\n",
              "      <td>5.000000</td>\n",
              "      <td>1.000000</td>\n",
              "      <td>0.000000</td>\n",
              "      <td>0.000000</td>\n",
              "      <td>0.000000</td>\n",
              "      <td>0.000000</td>\n",
              "      <td>0.000000</td>\n",
              "    </tr>\n",
              "    <tr>\n",
              "      <th>50%</th>\n",
              "      <td>6.000000</td>\n",
              "      <td>7.000000</td>\n",
              "      <td>1.000000</td>\n",
              "      <td>0.000000</td>\n",
              "      <td>0.000000</td>\n",
              "      <td>0.000000</td>\n",
              "      <td>0.000000</td>\n",
              "      <td>0.000000</td>\n",
              "    </tr>\n",
              "    <tr>\n",
              "      <th>75%</th>\n",
              "      <td>7.000000</td>\n",
              "      <td>9.000000</td>\n",
              "      <td>1.000000</td>\n",
              "      <td>1.000000</td>\n",
              "      <td>0.000000</td>\n",
              "      <td>1.000000</td>\n",
              "      <td>0.000000</td>\n",
              "      <td>0.000000</td>\n",
              "    </tr>\n",
              "    <tr>\n",
              "      <th>max</th>\n",
              "      <td>10.000000</td>\n",
              "      <td>10.000000</td>\n",
              "      <td>1.000000</td>\n",
              "      <td>1.000000</td>\n",
              "      <td>1.000000</td>\n",
              "      <td>1.000000</td>\n",
              "      <td>1.000000</td>\n",
              "      <td>1.000000</td>\n",
              "    </tr>\n",
              "  </tbody>\n",
              "</table>\n",
              "</div>\n",
              "    <div class=\"colab-df-buttons\">\n",
              "\n",
              "  <div class=\"colab-df-container\">\n",
              "    <button class=\"colab-df-convert\" onclick=\"convertToInteractive('df-5b179416-2671-4569-96ef-f50552b2fbc6')\"\n",
              "            title=\"Convert this dataframe to an interactive table.\"\n",
              "            style=\"display:none;\">\n",
              "\n",
              "  <svg xmlns=\"http://www.w3.org/2000/svg\" height=\"24px\" viewBox=\"0 -960 960 960\">\n",
              "    <path d=\"M120-120v-720h720v720H120Zm60-500h600v-160H180v160Zm220 220h160v-160H400v160Zm0 220h160v-160H400v160ZM180-400h160v-160H180v160Zm440 0h160v-160H620v160ZM180-180h160v-160H180v160Zm440 0h160v-160H620v160Z\"/>\n",
              "  </svg>\n",
              "    </button>\n",
              "\n",
              "  <style>\n",
              "    .colab-df-container {\n",
              "      display:flex;\n",
              "      gap: 12px;\n",
              "    }\n",
              "\n",
              "    .colab-df-convert {\n",
              "      background-color: #E8F0FE;\n",
              "      border: none;\n",
              "      border-radius: 50%;\n",
              "      cursor: pointer;\n",
              "      display: none;\n",
              "      fill: #1967D2;\n",
              "      height: 32px;\n",
              "      padding: 0 0 0 0;\n",
              "      width: 32px;\n",
              "    }\n",
              "\n",
              "    .colab-df-convert:hover {\n",
              "      background-color: #E2EBFA;\n",
              "      box-shadow: 0px 1px 2px rgba(60, 64, 67, 0.3), 0px 1px 3px 1px rgba(60, 64, 67, 0.15);\n",
              "      fill: #174EA6;\n",
              "    }\n",
              "\n",
              "    .colab-df-buttons div {\n",
              "      margin-bottom: 4px;\n",
              "    }\n",
              "\n",
              "    [theme=dark] .colab-df-convert {\n",
              "      background-color: #3B4455;\n",
              "      fill: #D2E3FC;\n",
              "    }\n",
              "\n",
              "    [theme=dark] .colab-df-convert:hover {\n",
              "      background-color: #434B5C;\n",
              "      box-shadow: 0px 1px 3px 1px rgba(0, 0, 0, 0.15);\n",
              "      filter: drop-shadow(0px 1px 2px rgba(0, 0, 0, 0.3));\n",
              "      fill: #FFFFFF;\n",
              "    }\n",
              "  </style>\n",
              "\n",
              "    <script>\n",
              "      const buttonEl =\n",
              "        document.querySelector('#df-5b179416-2671-4569-96ef-f50552b2fbc6 button.colab-df-convert');\n",
              "      buttonEl.style.display =\n",
              "        google.colab.kernel.accessAllowed ? 'block' : 'none';\n",
              "\n",
              "      async function convertToInteractive(key) {\n",
              "        const element = document.querySelector('#df-5b179416-2671-4569-96ef-f50552b2fbc6');\n",
              "        const dataTable =\n",
              "          await google.colab.kernel.invokeFunction('convertToInteractive',\n",
              "                                                    [key], {});\n",
              "        if (!dataTable) return;\n",
              "\n",
              "        const docLinkHtml = 'Like what you see? Visit the ' +\n",
              "          '<a target=\"_blank\" href=https://colab.research.google.com/notebooks/data_table.ipynb>data table notebook</a>'\n",
              "          + ' to learn more about interactive tables.';\n",
              "        element.innerHTML = '';\n",
              "        dataTable['output_type'] = 'display_data';\n",
              "        await google.colab.output.renderOutput(dataTable, element);\n",
              "        const docLink = document.createElement('div');\n",
              "        docLink.innerHTML = docLinkHtml;\n",
              "        element.appendChild(docLink);\n",
              "      }\n",
              "    </script>\n",
              "  </div>\n",
              "\n",
              "\n",
              "<div id=\"df-6a06c7d1-4a58-4960-9a98-94213915805d\">\n",
              "  <button class=\"colab-df-quickchart\" onclick=\"quickchart('df-6a06c7d1-4a58-4960-9a98-94213915805d')\"\n",
              "            title=\"Suggest charts\"\n",
              "            style=\"display:none;\">\n",
              "\n",
              "<svg xmlns=\"http://www.w3.org/2000/svg\" height=\"24px\"viewBox=\"0 0 24 24\"\n",
              "     width=\"24px\">\n",
              "    <g>\n",
              "        <path d=\"M19 3H5c-1.1 0-2 .9-2 2v14c0 1.1.9 2 2 2h14c1.1 0 2-.9 2-2V5c0-1.1-.9-2-2-2zM9 17H7v-7h2v7zm4 0h-2V7h2v10zm4 0h-2v-4h2v4z\"/>\n",
              "    </g>\n",
              "</svg>\n",
              "  </button>\n",
              "\n",
              "<style>\n",
              "  .colab-df-quickchart {\n",
              "      --bg-color: #E8F0FE;\n",
              "      --fill-color: #1967D2;\n",
              "      --hover-bg-color: #E2EBFA;\n",
              "      --hover-fill-color: #174EA6;\n",
              "      --disabled-fill-color: #AAA;\n",
              "      --disabled-bg-color: #DDD;\n",
              "  }\n",
              "\n",
              "  [theme=dark] .colab-df-quickchart {\n",
              "      --bg-color: #3B4455;\n",
              "      --fill-color: #D2E3FC;\n",
              "      --hover-bg-color: #434B5C;\n",
              "      --hover-fill-color: #FFFFFF;\n",
              "      --disabled-bg-color: #3B4455;\n",
              "      --disabled-fill-color: #666;\n",
              "  }\n",
              "\n",
              "  .colab-df-quickchart {\n",
              "    background-color: var(--bg-color);\n",
              "    border: none;\n",
              "    border-radius: 50%;\n",
              "    cursor: pointer;\n",
              "    display: none;\n",
              "    fill: var(--fill-color);\n",
              "    height: 32px;\n",
              "    padding: 0;\n",
              "    width: 32px;\n",
              "  }\n",
              "\n",
              "  .colab-df-quickchart:hover {\n",
              "    background-color: var(--hover-bg-color);\n",
              "    box-shadow: 0 1px 2px rgba(60, 64, 67, 0.3), 0 1px 3px 1px rgba(60, 64, 67, 0.15);\n",
              "    fill: var(--button-hover-fill-color);\n",
              "  }\n",
              "\n",
              "  .colab-df-quickchart-complete:disabled,\n",
              "  .colab-df-quickchart-complete:disabled:hover {\n",
              "    background-color: var(--disabled-bg-color);\n",
              "    fill: var(--disabled-fill-color);\n",
              "    box-shadow: none;\n",
              "  }\n",
              "\n",
              "  .colab-df-spinner {\n",
              "    border: 2px solid var(--fill-color);\n",
              "    border-color: transparent;\n",
              "    border-bottom-color: var(--fill-color);\n",
              "    animation:\n",
              "      spin 1s steps(1) infinite;\n",
              "  }\n",
              "\n",
              "  @keyframes spin {\n",
              "    0% {\n",
              "      border-color: transparent;\n",
              "      border-bottom-color: var(--fill-color);\n",
              "      border-left-color: var(--fill-color);\n",
              "    }\n",
              "    20% {\n",
              "      border-color: transparent;\n",
              "      border-left-color: var(--fill-color);\n",
              "      border-top-color: var(--fill-color);\n",
              "    }\n",
              "    30% {\n",
              "      border-color: transparent;\n",
              "      border-left-color: var(--fill-color);\n",
              "      border-top-color: var(--fill-color);\n",
              "      border-right-color: var(--fill-color);\n",
              "    }\n",
              "    40% {\n",
              "      border-color: transparent;\n",
              "      border-right-color: var(--fill-color);\n",
              "      border-top-color: var(--fill-color);\n",
              "    }\n",
              "    60% {\n",
              "      border-color: transparent;\n",
              "      border-right-color: var(--fill-color);\n",
              "    }\n",
              "    80% {\n",
              "      border-color: transparent;\n",
              "      border-right-color: var(--fill-color);\n",
              "      border-bottom-color: var(--fill-color);\n",
              "    }\n",
              "    90% {\n",
              "      border-color: transparent;\n",
              "      border-bottom-color: var(--fill-color);\n",
              "    }\n",
              "  }\n",
              "</style>\n",
              "\n",
              "  <script>\n",
              "    async function quickchart(key) {\n",
              "      const quickchartButtonEl =\n",
              "        document.querySelector('#' + key + ' button');\n",
              "      quickchartButtonEl.disabled = true;  // To prevent multiple clicks.\n",
              "      quickchartButtonEl.classList.add('colab-df-spinner');\n",
              "      try {\n",
              "        const charts = await google.colab.kernel.invokeFunction(\n",
              "            'suggestCharts', [key], {});\n",
              "      } catch (error) {\n",
              "        console.error('Error during call to suggestCharts:', error);\n",
              "      }\n",
              "      quickchartButtonEl.classList.remove('colab-df-spinner');\n",
              "      quickchartButtonEl.classList.add('colab-df-quickchart-complete');\n",
              "    }\n",
              "    (() => {\n",
              "      let quickchartButtonEl =\n",
              "        document.querySelector('#df-6a06c7d1-4a58-4960-9a98-94213915805d button');\n",
              "      quickchartButtonEl.style.display =\n",
              "        google.colab.kernel.accessAllowed ? 'block' : 'none';\n",
              "    })();\n",
              "  </script>\n",
              "</div>\n",
              "\n",
              "    </div>\n",
              "  </div>\n"
            ],
            "application/vnd.google.colaboratory.intrinsic+json": {
              "type": "dataframe",
              "summary": "{\n  \"name\": \"df\",\n  \"rows\": 8,\n  \"fields\": [\n    {\n      \"column\": \"statistics\",\n      \"properties\": {\n        \"dtype\": \"number\",\n        \"std\": 296.26299741029794,\n        \"min\": 1.0,\n        \"max\": 843.0,\n        \"num_unique_values\": 8,\n        \"samples\": [\n          5.575326215895611,\n          6.0,\n          843.0\n        ],\n        \"semantic_type\": \"\",\n        \"description\": \"\"\n      }\n    },\n    {\n      \"column\": \"programming\",\n      \"properties\": {\n        \"dtype\": \"number\",\n        \"std\": 295.98358358033215,\n        \"min\": 1.0,\n        \"max\": 843.0,\n        \"num_unique_values\": 8,\n        \"samples\": [\n          6.769869513641756,\n          7.0,\n          843.0\n        ],\n        \"semantic_type\": \"\",\n        \"description\": \"\"\n      }\n    },\n    {\n      \"column\": \"Java\",\n      \"properties\": {\n        \"dtype\": \"number\",\n        \"std\": 297.7829773112291,\n        \"min\": 0.0,\n        \"max\": 843.0,\n        \"num_unique_values\": 5,\n        \"samples\": [\n          0.8090154211150652,\n          1.0,\n          0.39331027503230853\n        ],\n        \"semantic_type\": \"\",\n        \"description\": \"\"\n      }\n    },\n    {\n      \"column\": \"MATLAB\",\n      \"properties\": {\n        \"dtype\": \"number\",\n        \"std\": 297.9090412193748,\n        \"min\": 0.0,\n        \"max\": 843.0,\n        \"num_unique_values\": 5,\n        \"samples\": [\n          0.265717674970344,\n          1.0,\n          0.44197682789648457\n        ],\n        \"semantic_type\": \"\",\n        \"description\": \"\"\n      }\n    },\n    {\n      \"column\": \"R\",\n      \"properties\": {\n        \"dtype\": \"number\",\n        \"std\": 297.9692756142952,\n        \"min\": 0.0,\n        \"max\": 843.0,\n        \"num_unique_values\": 5,\n        \"samples\": [\n          0.15302491103202848,\n          1.0,\n          0.36022523054107364\n        ],\n        \"semantic_type\": \"\",\n        \"description\": \"\"\n      }\n    },\n    {\n      \"column\": \"Python\",\n      \"properties\": {\n        \"dtype\": \"number\",\n        \"std\": 297.89502113625844,\n        \"min\": 0.0,\n        \"max\": 843.0,\n        \"num_unique_values\": 5,\n        \"samples\": [\n          0.4851720047449585,\n          1.0,\n          0.5000767756486265\n        ],\n        \"semantic_type\": \"\",\n        \"description\": \"\"\n      }\n    },\n    {\n      \"column\": \"C\",\n      \"properties\": {\n        \"dtype\": \"number\",\n        \"std\": 297.9650521570838,\n        \"min\": 0.0,\n        \"max\": 843.0,\n        \"num_unique_values\": 5,\n        \"samples\": [\n          0.1981020166073547,\n          1.0,\n          0.39880606140815106\n        ],\n        \"semantic_type\": \"\",\n        \"description\": \"\"\n      }\n    },\n    {\n      \"column\": \"SQL\",\n      \"properties\": {\n        \"dtype\": \"number\",\n        \"std\": 297.9920132985891,\n        \"min\": 0.0,\n        \"max\": 843.0,\n        \"num_unique_values\": 5,\n        \"samples\": [\n          0.0035587188612099642,\n          1.0,\n          0.05958410733818093\n        ],\n        \"semantic_type\": \"\",\n        \"description\": \"\"\n      }\n    }\n  ]\n}"
            }
          },
          "metadata": {},
          "execution_count": 6
        }
      ],
      "source": [
        "df.describe()"
      ]
    },
    {
      "cell_type": "code",
      "execution_count": 7,
      "metadata": {
        "id": "Oif7qZpcIvcI",
        "outputId": "45c92610-146a-44cc-df00-1d91df0cfbce",
        "colab": {
          "base_uri": "https://localhost:8080/",
          "height": 430
        }
      },
      "outputs": [
        {
          "output_type": "display_data",
          "data": {
            "text/plain": [
              "<Figure size 640x480 with 1 Axes>"
            ],
            "image/png": "[encoded data removed]"
          },
          "metadata": {
            "image/png": {
              "width": 552,
              "height": 413
            }
          }
        }
      ],
      "source": [
        "df['statistics'].hist();"
      ]
    },
    {
      "cell_type": "markdown",
      "metadata": {
        "id": "FunONV4aIvcJ"
      },
      "source": [
        "# Quantitative Variables\n",
        "\n",
        "- histograms\n",
        "- densityplots\n",
        "- scatterplots\n"
      ]
    },
    {
      "cell_type": "markdown",
      "metadata": {
        "id": "gjBhZMTTIvcJ"
      },
      "source": [
        "## Histograms and Densityplots\n",
        "\n",
        "__Histograms__ & __Densityplots__ are helpful for visualizing information about a _single quantitative variable_.\n",
        "\n",
        "We can use seaborn's `histplot` function. (`distplot` in older versions of `seaborn`)"
      ]
    },
    {
      "cell_type": "code",
      "execution_count": 18,
      "metadata": {
        "id": "h64ccmt6IvcK"
      },
      "outputs": [],
      "source": [
        "# set plotting size parameter\n",
        "plt.rcParams['figure.figsize'] = (11,8) # plot size to output"
      ]
    },
    {
      "cell_type": "code",
      "execution_count": 19,
      "metadata": {
        "id": "2brhuY1PIvcL"
      },
      "outputs": [],
      "source": [
        "sns.set_theme(context='notebook',\n",
        "              style='white',\n",
        "              font_scale=5)\n",
        "              #rc={'axes.spines.right': False,'axes.spines.top': False} )"
      ]
    },
    {
      "cell_type": "code",
      "execution_count": 20,
      "metadata": {
        "id": "ekD6GEHCIvcL",
        "outputId": "65bd7615-60ad-4c19-c8f7-90300832ebc4",
        "colab": {
          "base_uri": "https://localhost:8080/",
          "height": 827
        }
      },
      "outputs": [
        {
          "output_type": "display_data",
          "data": {
            "text/plain": [
              "<Figure size 1100x800 with 1 Axes>"
            ],
            "image/png": "[encoded data removed]"
          },
          "metadata": {
            "image/png": {
              "width": 1128,
              "height": 810
            }
          }
        }
      ],
      "source": [
        "# histogram\n",
        "#`distplot` in older versions of `seaborn`\n",
        "sns.histplot(df['statistics'], bins=10, kde=False);"
      ]
    },
    {
      "cell_type": "markdown",
      "metadata": {
        "id": "Qsx3HrXjIvcM"
      },
      "source": [
        "One thing to note about histograms is the fact that the number of  bins displayed plays a large role what the viewer takes away from the visualization."
      ]
    },
    {
      "cell_type": "code",
      "execution_count": 21,
      "metadata": {
        "id": "zWpPYXeoIvcM",
        "outputId": "beaf9440-0ba7-4aa1-e5c4-7dda46a69322",
        "colab": {
          "base_uri": "https://localhost:8080/",
          "height": 827
        }
      },
      "outputs": [
        {
          "output_type": "display_data",
          "data": {
            "text/plain": [
              "<Figure size 1100x800 with 1 Axes>"
            ],
            "image/png": "[encoded data removed]"
          },
          "metadata": {
            "image/png": {
              "width": 1128,
              "height": 810
            }
          }
        }
      ],
      "source": [
        "\n",
        "# just histogram - set kde = False\n",
        "sns.histplot(df['statistics'], bins=10);\n",
        "\n",
        "# Alternative approach using pandas\n",
        "# df['statistics'].hist(bins=10);"
      ]
    },
    {
      "cell_type": "markdown",
      "metadata": {
        "id": "EdPqUVdDIvcM"
      },
      "source": [
        "This doesn't follow \"visualization best practices.\""
      ]
    },
    {
      "cell_type": "markdown",
      "metadata": {
        "id": "TLJpQaBcIvcN"
      },
      "source": [
        "## Visualization Best Practices\n",
        "\n",
        "- Choose the right type of visualization\n",
        "- Be mindful when choosing colors\n",
        "- Label your axes\n",
        "- Make text big enough\n",
        "- Keep it simple\n",
        "- Less is more:\n",
        "    - Aim to improve your data:ink ratio\n",
        "    - Everything on the page should serve a purpose. If it doesn't, remove it.\n",
        "    "
      ]
    },
    {
      "cell_type": "markdown",
      "metadata": {
        "id": "v7z7UT7LIvcN"
      },
      "source": [
        "### Best Practices: Example"
      ]
    },
    {
      "cell_type": "markdown",
      "metadata": {
        "id": "TPOYRX6JIvcN"
      },
      "source": [
        "![](https://github.com/COGS108/Lectures-Sp22/raw/master/03_ethics/images/original.png)\n",
        "\n",
        "Source: [Storytelling with Data (Nussbaumer Knaflic)](http://www.storytellingwithdata.com/books)"
      ]
    },
    {
      "cell_type": "markdown",
      "metadata": {
        "id": "bMLHK-PEIvcc"
      },
      "source": [
        "Ideas:\n",
        "\n",
        "- Pros:\n",
        "    - consistent colors from left to right\n",
        "    - values provided for each slice\n",
        "    - overall picture\n",
        "- Cons:\n",
        "    - text size\n",
        "    - legend not ideal\n",
        "    - colors are not intuitive\n",
        "    - pie chart not ideal b/c of # of categories\n",
        "\n",
        "Suggestions:\n",
        "- different visualiztion - stacked barplot?\n",
        "\n"
      ]
    },
    {
      "cell_type": "markdown",
      "metadata": {
        "id": "BwX2c6RyIvcc"
      },
      "source": [
        "#### Clicker Question #4\n",
        "\n",
        "Consider what are some positive and some negative aspects of this visualization. Click in when you have finished thinking.\n",
        "\n",
        "- A) I have some ideas!\n",
        "- B) I've got no ideas.\n",
        "- C) I'm not sure what I'm supposed to be thinking about."
      ]
    },
    {
      "cell_type": "markdown",
      "metadata": {
        "id": "htugV6-WIvcd"
      },
      "source": [
        "![](https://github.com/COGS108/Lectures-Sp22/raw/master/03_ethics/images/improvement1.png)\n",
        "\n",
        "Source: [Storytelling with Data (Nussbaumer Knaflic)](http://www.storytellingwithdata.com/books)"
      ]
    },
    {
      "cell_type": "markdown",
      "metadata": {
        "id": "pJpTj2WWIvcd"
      },
      "source": [
        "![](https://github.com/COGS108/Lectures-Sp22/raw/master/03_ethics/images/improvement2.png)\n",
        "\n",
        "Source: [Storytelling with Data (Nussbaumer Knaflic)](http://www.storytellingwithdata.com/books)"
      ]
    },
    {
      "cell_type": "markdown",
      "metadata": {
        "id": "Ja6eq8ZoIvce"
      },
      "source": [
        "![](https://github.com/COGS108/Lectures-Sp22/raw/master/03_ethics/images/improvement3.png)\n",
        "\n",
        "Source: [Storytelling with Data (Nussbaumer Knaflic)](http://www.storytellingwithdata.com/books)"
      ]
    },
    {
      "cell_type": "markdown",
      "metadata": {
        "id": "Ibx8zlGZIvce"
      },
      "source": [
        "\n",
        "### Less is more\n",
        "\n",
        "The *less is more* approach suggests that we should probably get rid of this background color now and remove the gridlines. We'll use the _less is more_ approach as we work through the other types of visualizations.\n",
        "\n",
        "Let's improve that now for our original plot..."
      ]
    },
    {
      "cell_type": "code",
      "execution_count": null,
      "metadata": {
        "id": "tvGFEneNIvce"
      },
      "outputs": [],
      "source": [
        "\n",
        "# change color to dark grey\n",
        "ax = sns.histplot(df['statistics'],\n",
        "                  bins=10, color='darkgrey', kde=True)\n",
        "# remove the top and right lines\n",
        "sns.despine()\n",
        "\n",
        "# add title and axis labels (modify x-axis label)\n",
        "ax.set_title('Most COGS108 students are moderately comfortable with statistics')\n",
        "ax.set_ylabel('Count')\n",
        "ax.set_xlabel('How comfortable are you with statistics?');"
      ]
    },
    {
      "cell_type": "code",
      "execution_count": null,
      "metadata": {
        "id": "Yqk09_SpIvcf"
      },
      "outputs": [],
      "source": [
        "# kdeplot to only display the densityplot\n",
        "ax = sns.kdeplot(df['programming'], color='#686868')\n",
        "\n",
        "# remove the top and right lines\n",
        "sns.despine()\n",
        "\n",
        "# add title and axis labels (modify x-axis label)\n",
        "ax.set_title('Most COGS108 students are pretty comfortable with programming')\n",
        "ax.set_ylabel('Count')\n",
        "ax.set_xlabel('How comfortable are you with programming?');"
      ]
    },
    {
      "cell_type": "markdown",
      "metadata": {
        "id": "Ov9WfEtGIvcg"
      },
      "source": [
        "## Scatterplots\n",
        "\n",
        "Scatterplots can help visualize the relationship between __two quantitative variables__."
      ]
    },
    {
      "cell_type": "code",
      "execution_count": null,
      "metadata": {
        "id": "0F-kYoPoIvcg"
      },
      "outputs": [],
      "source": [
        "sns.scatterplot(x='programming', y='statistics', data=df,\n",
        "                # alpha=0.1 # comment this in and out\n",
        "               );\n",
        "\n",
        "# alternative with pandas\n",
        "# df.plot.scatter('programming', 'statistics');"
      ]
    },
    {
      "cell_type": "code",
      "execution_count": null,
      "metadata": {
        "id": "aOvfzMmjIvci"
      },
      "outputs": [],
      "source": [
        "# jitter points to see relationship, try different levels of it\n",
        "sns.lmplot(x='programming', y='statistics', data=df,\n",
        "           fit_reg=False, height=10, aspect=1.6,\n",
        "          x_jitter=.15, y_jitter=.15);"
      ]
    },
    {
      "cell_type": "code",
      "execution_count": null,
      "metadata": {
        "id": "xMBxcfHVIvci"
      },
      "outputs": [],
      "source": [
        "# fit a linear model, showing the line of best fit\n",
        "# and also 95% confidence interval on the fit\n",
        "sns.lmplot(x='programming', y='statistics', data=df,\n",
        "           fit_reg=True, height=6, aspect=2,\n",
        "          x_jitter=.20, y_jitter=.20);"
      ]
    },
    {
      "cell_type": "markdown",
      "metadata": {
        "id": "g_PsN1awIvcj"
      },
      "source": [
        "#### Clicker Question #5\n",
        "\n",
        "What can we say about the relationship between students' comfortability with programming and statistics?\n",
        "\n",
        "- A) Students who are more comfortable programming are more comfortable with statistics\n",
        "- B) Students sho are more comfortable programming are less comfortable with statistics\n",
        "- C) There is little relationship between students' comfort level with programming and statistics"
      ]
    },
    {
      "cell_type": "markdown",
      "metadata": {
        "id": "wlTMXqX4Ivcj"
      },
      "source": [
        "## Scatterplots (by a categorical variable)\n",
        "\n",
        "When you want to plot two numeric variables but want to get some insight about a *third* categorical variable, you can color the points on the plot by the categorical variable.\n",
        "\n",
        "### COLOR !\n",
        "By the way you REALLY need to read this... over and over over again: https://seaborn.pydata.org/tutorial/color_palettes.html\n"
      ]
    },
    {
      "cell_type": "code",
      "execution_count": null,
      "metadata": {
        "id": "h4oQB2gTIvcl"
      },
      "outputs": [],
      "source": [
        "# control color palette\n",
        "unique = pd.concat([df[\"lecture_attendance\"], df[\"gender\"]]).unique()\n",
        "my_palette = dict(zip(unique, sns.color_palette()))\n",
        "my_palette.update({\"Total\":\"k\"})\n",
        "print(my_palette)"
      ]
    },
    {
      "cell_type": "code",
      "execution_count": null,
      "metadata": {
        "id": "puyiiyNqIvcl"
      },
      "outputs": [],
      "source": [
        "\n",
        "# color points by gender is\n",
        "sns.lmplot(x='programming', y='statistics', data=df, hue='gender',\n",
        "           fit_reg=True, height=6, aspect=2,\n",
        "           x_jitter=.5, y_jitter=.5,\n",
        "           palette=my_palette);"
      ]
    },
    {
      "cell_type": "code",
      "execution_count": null,
      "metadata": {
        "id": "lFF8HZQlIvcl"
      },
      "outputs": [],
      "source": [
        "\n",
        "sns.lmplot(x='programming', y='statistics', data=df, hue='lecture_attendance',\n",
        "           fit_reg=True, height=6, aspect=2,\n",
        "           x_jitter=.5, y_jitter=.5,\n",
        "           palette=my_palette);"
      ]
    },
    {
      "cell_type": "markdown",
      "metadata": {
        "id": "GAmqpMvKIvcm"
      },
      "source": [
        "#### Clicker Question #6\n",
        "\n",
        "What can we say about the relationship between students' comfortability with programming and statistics and gender? And, how easy is this to determine?\n",
        "\n",
        "- A) Females and Other/Prefer not to say tend to be more comfortable with programming; easy to determine\n",
        "- B) Females and Other/Prefer not to say tend to be more comfortable with programming; difficult to determine\n",
        "- C) Males tend to be more comfortable with programming; easy to determine\n",
        "- D) Males tend to be more comfortable with programming; difficult to determine\n",
        "- E) I'm super lost."
      ]
    },
    {
      "cell_type": "markdown",
      "metadata": {
        "id": "-ktYFXFAIvcn"
      },
      "source": [
        "We don't get a _ton_ more information here, but what we may see a slight shift in programming comfortability to include more males relative to females. To better understand this, a boxplot would be helpful. (We'll look at this shortly.)"
      ]
    },
    {
      "cell_type": "markdown",
      "metadata": {
        "id": "Z6YEBKRgIvcn"
      },
      "source": [
        "# Categorical Variables\n",
        "\n",
        "- barplots\n",
        "- grouped barplots\n",
        "- stacked barplots"
      ]
    },
    {
      "cell_type": "markdown",
      "metadata": {
        "id": "wWC9htzQIvco"
      },
      "source": [
        "## Barplots"
      ]
    },
    {
      "cell_type": "markdown",
      "metadata": {
        "id": "7Y6ay3c4Ivco"
      },
      "source": [
        "In `seaborn` there are two types of bar charts:\n",
        "1. `countplot` - counts the number of times each category appears in a column\n",
        "2. `barplot` - groups dataframe by a categorical column and plots the height bars according to the average of a numerical column within each group (This is usually not the right way to visualize quantitative data, so we're not covering it in this class.)"
      ]
    },
    {
      "cell_type": "code",
      "execution_count": null,
      "metadata": {
        "id": "0saK4fspIvcp"
      },
      "outputs": [],
      "source": [
        "# generate default barplot\n",
        "sns.countplot(x='lecture_attendance',\n",
        "              data=df#COMMENT THIS IN AND OUT .replace({ 'I prefer to attend lecture': 'prefer to attend', 'I prefer not to attend lecture (i.e. catch up later, listen to podcast, etc.)': 'prefer to not attend'} )\n",
        "             );"
      ]
    },
    {
      "cell_type": "code",
      "execution_count": null,
      "metadata": {
        "id": "7S29_lLrIvcp"
      },
      "outputs": [],
      "source": [
        "ax = sns.countplot(x='lecture_attendance',\n",
        "                   data=df, color = '#686868')\n",
        "\n",
        "# add title and axis labels (modify x-axis label)\n",
        "ax.set_title('Most COGS108 students prefer to attend lecture')\n",
        "ax.set_ylabel('Count')\n",
        "ax.set_xlabel('Lecture Attendance Preference')\n",
        "# set tick labels\n",
        "ax.set_xticklabels((\"attend\", \"not attend\"));"
      ]
    },
    {
      "cell_type": "code",
      "execution_count": null,
      "metadata": {
        "id": "6Fp3OPDIIvcp"
      },
      "outputs": [],
      "source": [
        "ax = sns.countplot(x='gender', data=df, color='#686868')\n",
        "\n",
        "# add title and axis labels (modify x-axis label)\n",
        "ax.set_title('There are more males than females in COGS108')\n",
        "ax.set_ylabel('Count')\n",
        "ax.set_xlabel('Gender');"
      ]
    },
    {
      "cell_type": "markdown",
      "metadata": {
        "id": "WRS0NfUkIvcq"
      },
      "source": [
        "It's often a good idea to order axes from largest to smallest for categorical data."
      ]
    },
    {
      "cell_type": "code",
      "execution_count": null,
      "metadata": {
        "id": "U83QOc4tIvcq"
      },
      "outputs": [],
      "source": [
        "ax = sns.countplot(x='gender', data=df, color = '#686868',\n",
        "             order=['male', 'female', 'other or prefer not to say'])\n",
        "\n",
        "# add title and axis labels (modify x-axis label)\n",
        "ax.set_title('Male is the most prevalent gender in COGS108.')\n",
        "ax.set_ylabel('Count')\n",
        "ax.set_xlabel('Gender');"
      ]
    },
    {
      "cell_type": "code",
      "execution_count": null,
      "metadata": {
        "id": "Ag_xXOZgIvcr"
      },
      "outputs": [],
      "source": [
        "# warning: not seaborn\n",
        "# pandas approach\n",
        "# proportion of the class familiar with each programming language\n",
        "a = df.iloc[:,5:11].sum()/len(df)\n",
        "a = a.sort_values(axis=0, ascending=False)\n",
        "a.plot.bar(color='#686868', rot=0);"
      ]
    },
    {
      "cell_type": "markdown",
      "metadata": {
        "id": "ME7VdaylIvcr"
      },
      "source": [
        "### Grouped Barplots"
      ]
    },
    {
      "cell_type": "code",
      "execution_count": null,
      "metadata": {
        "id": "QzRmDNY1Ivcs"
      },
      "outputs": [],
      "source": [
        "# same color palette as defined earlier\n",
        "# generate grouped barplot by specifying hue\n",
        "ax = sns.countplot(x='lecture_attendance', hue='gender',\n",
        "                   data=df, palette=my_palette, )\n",
        "\n",
        "# add title and axis labels (modify x-axis label)\n",
        "ax.set_title('Most COGS108 students prefer to attend lecture')\n",
        "ax.set_ylabel('Count')\n",
        "ax.set_xlabel('Lecture Attendance Preference')\n",
        "ax.set_xticklabels(('attend', 'not attend'));"
      ]
    },
    {
      "cell_type": "markdown",
      "metadata": {
        "id": "nvPYE5enIvcs"
      },
      "source": [
        "Because we have different numbers of males and females, comparing counts is not all that helpful...\n",
        "\n",
        "We need proportions."
      ]
    },
    {
      "cell_type": "markdown",
      "metadata": {
        "id": "bRbSDzrEIvcs"
      },
      "source": [
        "### Stacked Barplots"
      ]
    },
    {
      "cell_type": "code",
      "execution_count": null,
      "metadata": {
        "id": "JXIjrofiIvct"
      },
      "outputs": [],
      "source": [
        "# warning: this is not seaborn\n",
        "df2 = df.groupby([ 'lecture_attendance','gender'])['lecture_attendance'].count().unstack('gender').fillna(0)\n",
        "sub_df2 = np.transpose(df2.div(df2.sum()))\n",
        "\n",
        "# generate plot\n",
        "ax = sub_df2.plot(kind='bar', stacked=True, rot=0,\n",
        "                  title='Lecture Attendance does not appear to differ by gender')\n",
        "\n",
        "# customize plot\n",
        "ax.legend(('not attend','attend'), loc='center left', bbox_to_anchor=(1.0, 0.5))\n",
        "ax.set_ylabel(\"Proportion of students\");"
      ]
    },
    {
      "cell_type": "markdown",
      "metadata": {
        "id": "XPdD-7PSIvct"
      },
      "source": [
        "# More plots\n",
        "\n",
        "- boxplots (quantitative + categorical)\n",
        "- lineplots (quantitative over time)"
      ]
    },
    {
      "cell_type": "markdown",
      "metadata": {
        "id": "UfsZnJS1Ivcu"
      },
      "source": [
        "### Boxplots\n",
        "\n",
        "By default, the box delineates the 25th and 75th percentile. The line down the middle represents the median. \"Whiskers\" extend to show the range for the rest of the data, excluding outliers. Outliers are marked as individual points outside of the whiskers."
      ]
    },
    {
      "cell_type": "code",
      "execution_count": null,
      "metadata": {
        "id": "AS4thXrGIvcu"
      },
      "outputs": [],
      "source": [
        "# generate boxplots\n",
        "sns.boxplot(x='statistics', y='gender', data=df);"
      ]
    },
    {
      "cell_type": "markdown",
      "metadata": {
        "id": "wR_5OKUNIvcu"
      },
      "source": [
        "## Outlier determination\n",
        "\n",
        "Outliers show up as individual points on boxplots. But, we don't see any on this boxplot. Let's see why..."
      ]
    },
    {
      "cell_type": "code",
      "execution_count": null,
      "metadata": {
        "id": "d-FZlwA7Ivcv"
      },
      "outputs": [],
      "source": [
        "# determine the 25th and 75th percentiles\n",
        "lower, upper = np.percentile(df['statistics'], [25, 75])\n",
        "lower, upper"
      ]
    },
    {
      "cell_type": "code",
      "execution_count": null,
      "metadata": {
        "id": "8ArQAZ1GIvcx"
      },
      "outputs": [],
      "source": [
        "# calculate IQR\n",
        "iqr = upper - lower\n",
        "iqr"
      ]
    },
    {
      "cell_type": "markdown",
      "metadata": {
        "id": "y0JcG1brIvcy"
      },
      "source": [
        "Typically, the inter-quartile range (IQR) is used to determine which values get marked as outliers. The IQR is: 75th percentile - 25th percentile. Values greater than 1.5 x IQR above the 75th or below the 25th percentile are marked as outliers.  "
      ]
    },
    {
      "cell_type": "code",
      "execution_count": null,
      "metadata": {
        "id": "CR7j1t9iIvcy"
      },
      "outputs": [],
      "source": [
        "# calculate lower cutoff\n",
        "# values below this are outliers\n",
        "lower_cutoff = lower - 1.5 * iqr\n",
        "\n",
        "# calculate upper cutoff\n",
        "# values above this are outliers\n",
        "upper_cutoff = upper + 1.5 * iqr\n",
        "\n",
        "lower_cutoff, upper_cutoff"
      ]
    },
    {
      "cell_type": "markdown",
      "metadata": {
        "id": "8ptdpwCNIvcz"
      },
      "source": [
        "Boxplots really shine when you want to look at the range of typical values for a quantitative variable, _broken down by a separate categorical variable_."
      ]
    },
    {
      "cell_type": "code",
      "execution_count": null,
      "metadata": {
        "id": "qLfuWFmqIvc0"
      },
      "outputs": [],
      "source": [
        "# generate boxplots\n",
        "# we can make sure the colors match what we used earlier for the same groups\n",
        "ax = sns.boxplot(y='gender', x='programming', data=df)\n",
        "\n",
        "ax.set_title('Gender not related to comfort with programming')\n",
        "ax.set_ylabel('Comfort with Programming')\n",
        "ax.set_xlabel('Gender');"
      ]
    },
    {
      "cell_type": "code",
      "execution_count": null,
      "metadata": {
        "id": "UxwlkeQ7Ivc0"
      },
      "outputs": [],
      "source": [
        "# generate boxplots\n",
        "# we can make sure the colors match what we used earlier for the same groups\n",
        "ax = sns.boxplot(x='gender', y='statistics', data=df, palette=my_palette)\n",
        "\n",
        "ax.set_title('Gender not related to comfort with statistics')\n",
        "ax.set_ylabel('Comfort with Statistics')\n",
        "ax.set_xlabel('Gender');"
      ]
    },
    {
      "cell_type": "code",
      "execution_count": null,
      "metadata": {
        "id": "IN8mAWMXIvc1"
      },
      "outputs": [],
      "source": [
        "sns.pairplot(data=df)"
      ]
    },
    {
      "cell_type": "markdown",
      "metadata": {
        "id": "TV-BUN-3Ivc1"
      },
      "source": [
        "Much better!"
      ]
    },
    {
      "cell_type": "markdown",
      "metadata": {
        "id": "F_dG4UwBIvc2"
      },
      "source": [
        "# Histograms (by a categorical variable)\n",
        "\n",
        "The same data plotted as a histogram are not so easily interpretable."
      ]
    },
    {
      "cell_type": "code",
      "execution_count": null,
      "metadata": {
        "id": "YY_d8mUfIvc3"
      },
      "outputs": [],
      "source": [
        "# `distplot` in older versions of `seaborn`\n",
        "sns.histplot(df.loc[df['gender'] == 'female', 'statistics'], kde=True, color=\"red\")\n",
        "sns.histplot(df.loc[df['gender'] == 'male', 'statistics'], kde=True, color=\"purple\")\n",
        "sns.histplot(df.loc[df['gender'] == 'other or prefer not to say', 'statistics'], kde=True);"
      ]
    },
    {
      "cell_type": "markdown",
      "metadata": {
        "id": "UMZ2HH1TIvc3"
      },
      "source": [
        "# Customization: `births` data\n",
        "\n",
        "Now that we're getting the hang of this, let's see how complicated things can get. We'll return to using a line chart to look at birth patterns over time."
      ]
    },
    {
      "cell_type": "code",
      "execution_count": null,
      "metadata": {
        "id": "KtFLg1CLIvc3"
      },
      "outputs": [],
      "source": [
        "# get the data\n",
        "births = pd.read_csv('https://github.com/COGS108/Lectures-Sp22/raw/master/03_ethics/data/births.csv')\n",
        "births.head()\n",
        "births.year.max()"
      ]
    },
    {
      "cell_type": "code",
      "execution_count": null,
      "metadata": {
        "id": "YClwi_IiIvc4"
      },
      "outputs": [],
      "source": [
        "from datetime import datetime\n",
        "\n",
        "# calculate values & wrangle\n",
        "quartiles = np.percentile(births['births'], [25, 50, 75])\n",
        "mu, sig = quartiles[1], 0.74 * (quartiles[2] - quartiles[0])\n",
        "births = births.query('(births > @mu - 5 * @sig) & (births < @mu + 5 * @sig)')\n",
        "\n",
        "births['day'] = births['day'].astype(int)\n",
        "\n",
        "births.index = pd.to_datetime(10000 * births.year +\n",
        "                              100 * births.month +\n",
        "                              births.day, format='%Y%m%d')\n",
        "births_by_date = births.pivot_table('births',\n",
        "                                    [births.index.month, births.index.day])\n",
        "births_by_date.index = [datetime(2012, month, day)\n",
        "                        for (month, day) in births_by_date.index]\n",
        "\n",
        "\n",
        "# plot the thing\n",
        "fig, ax = plt.subplots(figsize=(22, 5))\n",
        "births_by_date.plot(ax = ax)\n",
        "ax.get_legend().remove()"
      ]
    },
    {
      "cell_type": "markdown",
      "metadata": {
        "id": "kQf-ZtWMIvc4"
      },
      "source": [
        "What are all those dips? Well, let's annotate the plot to get a better sense of what's going on."
      ]
    },
    {
      "cell_type": "code",
      "execution_count": null,
      "metadata": {
        "id": "gUQWnXzUIvc5"
      },
      "outputs": [],
      "source": [
        "# plot the thing\n",
        "fig, ax = plt.subplots(figsize=(22, 7))\n",
        "births_by_date.plot(ax=ax)\n",
        "ax.get_legend().remove();\n",
        "\n",
        "# define style\n",
        "style = dict(size=16, color='gray')\n",
        "\n",
        "# add annotation\n",
        "ax.text('2012-1-1', 3950, \"New Year's Day\", **style)\n",
        "ax.text('2012-7-4', 4250, \"Independence Day\", ha='center', **style)\n",
        "ax.text('2012-9-4', 4850, \"Labor Day\", ha='center', **style)\n",
        "ax.text('2012-10-31', 4600, \"Halloween\", ha='right', **style)\n",
        "ax.text('2012-11-25', 4450, \"Thanksgiving\", ha='center', **style)\n",
        "ax.text('2012-12-25', 3850, \"Christmas \", ha='right', **style)\n",
        "\n",
        "# label the axes\n",
        "ax.set(title='USA births by day of year (1969-1988)',\n",
        "       ylabel='average daily births')\n",
        "\n",
        "# format the x axis with centered month labels\n",
        "ax.xaxis.set_major_locator(mpl.dates.MonthLocator())\n",
        "ax.xaxis.set_minor_locator(mpl.dates.MonthLocator(bymonthday=15))\n",
        "ax.xaxis.set_major_formatter(plt.NullFormatter())\n",
        "ax.xaxis.set_minor_formatter(mpl.dates.DateFormatter('%h'));"
      ]
    },
    {
      "cell_type": "markdown",
      "metadata": {
        "id": "gwbHCcRmIvc5"
      },
      "source": [
        "Annotation directly on plots can help explain the plot to viewers."
      ]
    },
    {
      "cell_type": "markdown",
      "metadata": {
        "id": "YlJ1G7mVIvc5"
      },
      "source": [
        "# Saving Plots\n",
        "\n",
        "While we're using a Jupyter notebook right now, you won't always be. So, you'll need to know how to save figures."
      ]
    },
    {
      "cell_type": "code",
      "execution_count": null,
      "metadata": {
        "id": "2ohI1hB0Ivc6"
      },
      "outputs": [],
      "source": [
        "# save fig to plots directory\n",
        "# this will only work if you have\n",
        "# a plots directory in your working directory\n",
        "fig.savefig('my_figure.png',dpi=300)"
      ]
    },
    {
      "cell_type": "markdown",
      "metadata": {
        "id": "50wuwpW6Ivc6"
      },
      "source": [
        "Note that the file format is inferred from the extension you specify in the filename.\n",
        "\n",
        "To see which file types are supported:"
      ]
    },
    {
      "cell_type": "code",
      "execution_count": null,
      "metadata": {
        "id": "xRS-sF-_Ivc6"
      },
      "outputs": [],
      "source": [
        "fig.canvas.get_supported_filetypes()"
      ]
    },
    {
      "cell_type": "markdown",
      "metadata": {
        "id": "8tZQ8jjlIvc7"
      },
      "source": [
        "# Viewing Saved Plots\n",
        "\n",
        "Once a plot is saved, it may be helpful to view it through IPython or your notebook. To do so, you'd use the following:"
      ]
    },
    {
      "cell_type": "markdown",
      "metadata": {
        "id": "AdMOyvEFIvc7"
      },
      "source": [
        "Can import with Markdown formatting... (or with HTML in a markdown cell)"
      ]
    },
    {
      "cell_type": "markdown",
      "metadata": {
        "id": "91BX7AFUIvc8"
      },
      "source": [
        "![dates figure](https://github.com/COGS108/Lectures-Sp22/raw/master/03_ethics/images/my_figure.png)"
      ]
    },
    {
      "cell_type": "code",
      "execution_count": null,
      "metadata": {
        "id": "Y90BDADLIvc8"
      },
      "outputs": [],
      "source": [
        "# to see contents of a saved image\n",
        "from IPython.display import Image\n",
        "Image('https://raw.githubusercontent.com/COGS108/Lectures-Sp22/master/03_ethics/images/my_figure.png')"
      ]
    },
    {
      "cell_type": "markdown",
      "metadata": {
        "id": "jVYV1bo1Ivc9"
      },
      "source": [
        "# On your own!\n",
        "Now explore your own cohort here.  Look at the relationship between\n",
        "- gender and self-declared programming and statistics skill\n",
        "- major and self-declared programming and statistics skill\n",
        "\n",
        "This is anonymized data from the Fa24 Precourse survey"
      ]
    },
    {
      "cell_type": "code",
      "execution_count": null,
      "metadata": {
        "id": "F4k-74yFIvc9"
      },
      "outputs": [],
      "source": [
        "\n",
        "df = df.read_csv('https://github.com/COGS108/Lectures-Fa24/raw/main/data/df_for_viz.csv')\n",
        "# Now use what you just learned!!"
      ]
    }
  ],
  "metadata": {
    "kernelspec": {
      "display_name": "Python 3 (ipykernel)",
      "language": "python",
      "name": "python3"
    },
    "language_info": {
      "codemirror_mode": {
        "name": "ipython",
        "version": 3
      },
      "file_extension": ".py",
      "mimetype": "text/x-python",
      "name": "python",
      "nbconvert_exporter": "python",
      "pygments_lexer": "ipython3",
      "version": "3.11.9"
    },
    "vscode": {
      "interpreter": {
        "hash": "0a84ca322302312d61b3d41329f8b3f069a2e3645b799eb56410746a14f41589"
      }
    },
    "colab": {
      "provenance": []
    }
  },
  "nbformat": 4,
  "nbformat_minor": 0
}